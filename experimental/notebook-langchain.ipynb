{
 "cells": [
  {
   "cell_type": "code",
   "execution_count": 4,
   "id": "df3a833e-94b7-4106-a305-a9d8e5af7406",
   "metadata": {},
   "outputs": [],
   "source": [
    "import os\n",
    "from secret_key import openai_apikey"
   ]
  },
  {
   "cell_type": "raw",
   "id": "5a827a5b-2780-4c29-bebe-f1638a163ba1",
   "metadata": {},
   "source": [
    "os.environ['OPENAI_API_KEY'] = openai_apikey"
   ]
  },
  {
   "cell_type": "code",
   "execution_count": 5,
   "id": "39e42c99-86b6-4cfd-a647-4b051d048a64",
   "metadata": {},
   "outputs": [
    {
     "name": "stdout",
     "output_type": "stream",
     "text": [
      "sf-xxx\n"
     ]
    }
   ],
   "source": [
    "print(openai_apikey)"
   ]
  },
  {
   "cell_type": "code",
   "execution_count": null,
   "id": "ca47a3c9-71ca-485c-80a9-192a80bb3232",
   "metadata": {},
   "outputs": [],
   "source": []
  }
 ],
 "metadata": {
  "kernelspec": {
   "display_name": "Python 3 (ipykernel)",
   "language": "python",
   "name": "python3"
  },
  "language_info": {
   "codemirror_mode": {
    "name": "ipython",
    "version": 3
   },
   "file_extension": ".py",
   "mimetype": "text/x-python",
   "name": "python",
   "nbconvert_exporter": "python",
   "pygments_lexer": "ipython3",
   "version": "3.10.11"
  }
 },
 "nbformat": 4,
 "nbformat_minor": 5
}
